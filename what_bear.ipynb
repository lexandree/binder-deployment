{
  "nbformat": 4,
  "nbformat_minor": 0,
  "metadata": {
    "colab": {
      "name": "what-bear.ipynb",
      "provenance": []
    },
    "kernelspec": {
      "name": "python3",
      "display_name": "Python 3"
    },
    "language_info": {
      "name": "python"
    },
    "widgets": {
      "application/vnd.jupyter.widget-state+json": {
        "534091f69b034e90b66190a6392e8485": {
          "model_module": "@jupyter-widgets/controls",
          "model_name": "VBoxModel",
          "model_module_version": "1.5.0",
          "state": {
            "_dom_classes": [],
            "_model_module": "@jupyter-widgets/controls",
            "_model_module_version": "1.5.0",
            "_model_name": "VBoxModel",
            "_view_count": null,
            "_view_module": "@jupyter-widgets/controls",
            "_view_module_version": "1.5.0",
            "_view_name": "VBoxView",
            "box_style": "",
            "children": [
              "IPY_MODEL_da32b8ccf1be4a06a08d95c77d1c00ec",
              "IPY_MODEL_a14270ac2aef449fa61c87fc9b5c49c4",
              "IPY_MODEL_6a638dfc3a894aa6a6a4dab88887a6e8",
              "IPY_MODEL_8de3e5d3e3dd460bb8d4f29d8762b2e4",
              "IPY_MODEL_ebba0f42942b47e4bbcd2f43cc6d613d"
            ],
            "layout": "IPY_MODEL_501122fdc5bf43868b112a85dacc9130"
          }
        },
        "da32b8ccf1be4a06a08d95c77d1c00ec": {
          "model_module": "@jupyter-widgets/controls",
          "model_name": "LabelModel",
          "model_module_version": "1.5.0",
          "state": {
            "_dom_classes": [],
            "_model_module": "@jupyter-widgets/controls",
            "_model_module_version": "1.5.0",
            "_model_name": "LabelModel",
            "_view_count": null,
            "_view_module": "@jupyter-widgets/controls",
            "_view_module_version": "1.5.0",
            "_view_name": "LabelView",
            "description": "",
            "description_tooltip": null,
            "layout": "IPY_MODEL_9b883b48769744f48832f9d6d0911ce7",
            "placeholder": "​",
            "style": "IPY_MODEL_969fec2ff2e24a88b046b6a5082c5e73",
            "value": "Select your bear!"
          }
        },
        "a14270ac2aef449fa61c87fc9b5c49c4": {
          "model_module": "@jupyter-widgets/controls",
          "model_name": "FileUploadModel",
          "model_module_version": "1.5.0",
          "state": {
            "_counter": 2,
            "_dom_classes": [],
            "_model_module": "@jupyter-widgets/controls",
            "_model_module_version": "1.5.0",
            "_model_name": "FileUploadModel",
            "_view_count": null,
            "_view_module": "@jupyter-widgets/controls",
            "_view_module_version": "1.5.0",
            "_view_name": "FileUploadView",
            "accept": "",
            "button_style": "",
            "data": [
              null
            ],
            "description": "Upload",
            "description_tooltip": null,
            "disabled": false,
            "error": "",
            "icon": "upload",
            "layout": "IPY_MODEL_b6142e4ee0484fb792b26f25541e249a",
            "metadata": [
              {
                "name": "grizzly1.jpg",
                "type": "image/jpeg",
                "size": 58057,
                "lastModified": 1659627447162
              }
            ],
            "multiple": false,
            "style": "IPY_MODEL_f59004dc0eeb4ffe9311a3c4c9ee4df9"
          }
        },
        "6a638dfc3a894aa6a6a4dab88887a6e8": {
          "model_module": "@jupyter-widgets/controls",
          "model_name": "ButtonModel",
          "model_module_version": "1.5.0",
          "state": {
            "_dom_classes": [],
            "_model_module": "@jupyter-widgets/controls",
            "_model_module_version": "1.5.0",
            "_model_name": "ButtonModel",
            "_view_count": null,
            "_view_module": "@jupyter-widgets/controls",
            "_view_module_version": "1.5.0",
            "_view_name": "ButtonView",
            "button_style": "",
            "description": "Classify",
            "disabled": false,
            "icon": "",
            "layout": "IPY_MODEL_d34da3dbdae142af968dc19f507c3888",
            "style": "IPY_MODEL_76b24cc33b8747e0a4a90739fe741f68",
            "tooltip": ""
          }
        },
        "8de3e5d3e3dd460bb8d4f29d8762b2e4": {
          "model_module": "@jupyter-widgets/output",
          "model_name": "OutputModel",
          "model_module_version": "1.0.0",
          "state": {
            "_dom_classes": [],
            "_model_module": "@jupyter-widgets/output",
            "_model_module_version": "1.0.0",
            "_model_name": "OutputModel",
            "_view_count": null,
            "_view_module": "@jupyter-widgets/output",
            "_view_module_version": "1.0.0",
            "_view_name": "OutputView",
            "layout": "IPY_MODEL_9c9b45e8579d422a90505223bf5a1d15",
            "msg_id": "",
            "outputs": [
              {
                "output_type": "display_data",
                "data": {
                  "text/plain": "<PIL.Image.Image image mode=RGB size=128x85 at 0x7FFABF4F2C50>",
                  "image/png": "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\n"
                },
                "metadata": {}
              }
            ]
          }
        },
        "ebba0f42942b47e4bbcd2f43cc6d613d": {
          "model_module": "@jupyter-widgets/controls",
          "model_name": "LabelModel",
          "model_module_version": "1.5.0",
          "state": {
            "_dom_classes": [],
            "_model_module": "@jupyter-widgets/controls",
            "_model_module_version": "1.5.0",
            "_model_name": "LabelModel",
            "_view_count": null,
            "_view_module": "@jupyter-widgets/controls",
            "_view_module_version": "1.5.0",
            "_view_name": "LabelView",
            "description": "",
            "description_tooltip": null,
            "layout": "IPY_MODEL_4004b568564c42459922e247c5a4a849",
            "placeholder": "​",
            "style": "IPY_MODEL_7526077a64654ab6b0674f00b9280389",
            "value": "Prediction: grizzly; Probability: 0.9998"
          }
        },
        "501122fdc5bf43868b112a85dacc9130": {
          "model_module": "@jupyter-widgets/base",
          "model_name": "LayoutModel",
          "model_module_version": "1.2.0",
          "state": {
            "_model_module": "@jupyter-widgets/base",
            "_model_module_version": "1.2.0",
            "_model_name": "LayoutModel",
            "_view_count": null,
            "_view_module": "@jupyter-widgets/base",
            "_view_module_version": "1.2.0",
            "_view_name": "LayoutView",
            "align_content": null,
            "align_items": null,
            "align_self": null,
            "border": null,
            "bottom": null,
            "display": null,
            "flex": null,
            "flex_flow": null,
            "grid_area": null,
            "grid_auto_columns": null,
            "grid_auto_flow": null,
            "grid_auto_rows": null,
            "grid_column": null,
            "grid_gap": null,
            "grid_row": null,
            "grid_template_areas": null,
            "grid_template_columns": null,
            "grid_template_rows": null,
            "height": null,
            "justify_content": null,
            "justify_items": null,
            "left": null,
            "margin": null,
            "max_height": null,
            "max_width": null,
            "min_height": null,
            "min_width": null,
            "object_fit": null,
            "object_position": null,
            "order": null,
            "overflow": null,
            "overflow_x": null,
            "overflow_y": null,
            "padding": null,
            "right": null,
            "top": null,
            "visibility": null,
            "width": null
          }
        },
        "9b883b48769744f48832f9d6d0911ce7": {
          "model_module": "@jupyter-widgets/base",
          "model_name": "LayoutModel",
          "model_module_version": "1.2.0",
          "state": {
            "_model_module": "@jupyter-widgets/base",
            "_model_module_version": "1.2.0",
            "_model_name": "LayoutModel",
            "_view_count": null,
            "_view_module": "@jupyter-widgets/base",
            "_view_module_version": "1.2.0",
            "_view_name": "LayoutView",
            "align_content": null,
            "align_items": null,
            "align_self": null,
            "border": null,
            "bottom": null,
            "display": null,
            "flex": null,
            "flex_flow": null,
            "grid_area": null,
            "grid_auto_columns": null,
            "grid_auto_flow": null,
            "grid_auto_rows": null,
            "grid_column": null,
            "grid_gap": null,
            "grid_row": null,
            "grid_template_areas": null,
            "grid_template_columns": null,
            "grid_template_rows": null,
            "height": null,
            "justify_content": null,
            "justify_items": null,
            "left": null,
            "margin": null,
            "max_height": null,
            "max_width": null,
            "min_height": null,
            "min_width": null,
            "object_fit": null,
            "object_position": null,
            "order": null,
            "overflow": null,
            "overflow_x": null,
            "overflow_y": null,
            "padding": null,
            "right": null,
            "top": null,
            "visibility": null,
            "width": null
          }
        },
        "969fec2ff2e24a88b046b6a5082c5e73": {
          "model_module": "@jupyter-widgets/controls",
          "model_name": "DescriptionStyleModel",
          "model_module_version": "1.5.0",
          "state": {
            "_model_module": "@jupyter-widgets/controls",
            "_model_module_version": "1.5.0",
            "_model_name": "DescriptionStyleModel",
            "_view_count": null,
            "_view_module": "@jupyter-widgets/base",
            "_view_module_version": "1.2.0",
            "_view_name": "StyleView",
            "description_width": ""
          }
        },
        "b6142e4ee0484fb792b26f25541e249a": {
          "model_module": "@jupyter-widgets/base",
          "model_name": "LayoutModel",
          "model_module_version": "1.2.0",
          "state": {
            "_model_module": "@jupyter-widgets/base",
            "_model_module_version": "1.2.0",
            "_model_name": "LayoutModel",
            "_view_count": null,
            "_view_module": "@jupyter-widgets/base",
            "_view_module_version": "1.2.0",
            "_view_name": "LayoutView",
            "align_content": null,
            "align_items": null,
            "align_self": null,
            "border": null,
            "bottom": null,
            "display": null,
            "flex": null,
            "flex_flow": null,
            "grid_area": null,
            "grid_auto_columns": null,
            "grid_auto_flow": null,
            "grid_auto_rows": null,
            "grid_column": null,
            "grid_gap": null,
            "grid_row": null,
            "grid_template_areas": null,
            "grid_template_columns": null,
            "grid_template_rows": null,
            "height": null,
            "justify_content": null,
            "justify_items": null,
            "left": null,
            "margin": null,
            "max_height": null,
            "max_width": null,
            "min_height": null,
            "min_width": null,
            "object_fit": null,
            "object_position": null,
            "order": null,
            "overflow": null,
            "overflow_x": null,
            "overflow_y": null,
            "padding": null,
            "right": null,
            "top": null,
            "visibility": null,
            "width": null
          }
        },
        "f59004dc0eeb4ffe9311a3c4c9ee4df9": {
          "model_module": "@jupyter-widgets/controls",
          "model_name": "ButtonStyleModel",
          "model_module_version": "1.5.0",
          "state": {
            "_model_module": "@jupyter-widgets/controls",
            "_model_module_version": "1.5.0",
            "_model_name": "ButtonStyleModel",
            "_view_count": null,
            "_view_module": "@jupyter-widgets/base",
            "_view_module_version": "1.2.0",
            "_view_name": "StyleView",
            "button_color": null,
            "font_weight": ""
          }
        },
        "d34da3dbdae142af968dc19f507c3888": {
          "model_module": "@jupyter-widgets/base",
          "model_name": "LayoutModel",
          "model_module_version": "1.2.0",
          "state": {
            "_model_module": "@jupyter-widgets/base",
            "_model_module_version": "1.2.0",
            "_model_name": "LayoutModel",
            "_view_count": null,
            "_view_module": "@jupyter-widgets/base",
            "_view_module_version": "1.2.0",
            "_view_name": "LayoutView",
            "align_content": null,
            "align_items": null,
            "align_self": null,
            "border": null,
            "bottom": null,
            "display": null,
            "flex": null,
            "flex_flow": null,
            "grid_area": null,
            "grid_auto_columns": null,
            "grid_auto_flow": null,
            "grid_auto_rows": null,
            "grid_column": null,
            "grid_gap": null,
            "grid_row": null,
            "grid_template_areas": null,
            "grid_template_columns": null,
            "grid_template_rows": null,
            "height": null,
            "justify_content": null,
            "justify_items": null,
            "left": null,
            "margin": null,
            "max_height": null,
            "max_width": null,
            "min_height": null,
            "min_width": null,
            "object_fit": null,
            "object_position": null,
            "order": null,
            "overflow": null,
            "overflow_x": null,
            "overflow_y": null,
            "padding": null,
            "right": null,
            "top": null,
            "visibility": null,
            "width": null
          }
        },
        "76b24cc33b8747e0a4a90739fe741f68": {
          "model_module": "@jupyter-widgets/controls",
          "model_name": "ButtonStyleModel",
          "model_module_version": "1.5.0",
          "state": {
            "_model_module": "@jupyter-widgets/controls",
            "_model_module_version": "1.5.0",
            "_model_name": "ButtonStyleModel",
            "_view_count": null,
            "_view_module": "@jupyter-widgets/base",
            "_view_module_version": "1.2.0",
            "_view_name": "StyleView",
            "button_color": null,
            "font_weight": ""
          }
        },
        "4004b568564c42459922e247c5a4a849": {
          "model_module": "@jupyter-widgets/base",
          "model_name": "LayoutModel",
          "model_module_version": "1.2.0",
          "state": {
            "_model_module": "@jupyter-widgets/base",
            "_model_module_version": "1.2.0",
            "_model_name": "LayoutModel",
            "_view_count": null,
            "_view_module": "@jupyter-widgets/base",
            "_view_module_version": "1.2.0",
            "_view_name": "LayoutView",
            "align_content": null,
            "align_items": null,
            "align_self": null,
            "border": null,
            "bottom": null,
            "display": null,
            "flex": null,
            "flex_flow": null,
            "grid_area": null,
            "grid_auto_columns": null,
            "grid_auto_flow": null,
            "grid_auto_rows": null,
            "grid_column": null,
            "grid_gap": null,
            "grid_row": null,
            "grid_template_areas": null,
            "grid_template_columns": null,
            "grid_template_rows": null,
            "height": null,
            "justify_content": null,
            "justify_items": null,
            "left": null,
            "margin": null,
            "max_height": null,
            "max_width": null,
            "min_height": null,
            "min_width": null,
            "object_fit": null,
            "object_position": null,
            "order": null,
            "overflow": null,
            "overflow_x": null,
            "overflow_y": null,
            "padding": null,
            "right": null,
            "top": null,
            "visibility": null,
            "width": null
          }
        },
        "7526077a64654ab6b0674f00b9280389": {
          "model_module": "@jupyter-widgets/controls",
          "model_name": "DescriptionStyleModel",
          "model_module_version": "1.5.0",
          "state": {
            "_model_module": "@jupyter-widgets/controls",
            "_model_module_version": "1.5.0",
            "_model_name": "DescriptionStyleModel",
            "_view_count": null,
            "_view_module": "@jupyter-widgets/base",
            "_view_module_version": "1.2.0",
            "_view_name": "StyleView",
            "description_width": ""
          }
        },
        "9c9b45e8579d422a90505223bf5a1d15": {
          "model_module": "@jupyter-widgets/base",
          "model_name": "LayoutModel",
          "model_module_version": "1.2.0",
          "state": {
            "_model_module": "@jupyter-widgets/base",
            "_model_module_version": "1.2.0",
            "_model_name": "LayoutModel",
            "_view_count": null,
            "_view_module": "@jupyter-widgets/base",
            "_view_module_version": "1.2.0",
            "_view_name": "LayoutView",
            "align_content": null,
            "align_items": null,
            "align_self": null,
            "border": null,
            "bottom": null,
            "display": null,
            "flex": null,
            "flex_flow": null,
            "grid_area": null,
            "grid_auto_columns": null,
            "grid_auto_flow": null,
            "grid_auto_rows": null,
            "grid_column": null,
            "grid_gap": null,
            "grid_row": null,
            "grid_template_areas": null,
            "grid_template_columns": null,
            "grid_template_rows": null,
            "height": null,
            "justify_content": null,
            "justify_items": null,
            "left": null,
            "margin": null,
            "max_height": null,
            "max_width": null,
            "min_height": null,
            "min_width": null,
            "object_fit": null,
            "object_position": null,
            "order": null,
            "overflow": null,
            "overflow_x": null,
            "overflow_y": null,
            "padding": null,
            "right": null,
            "top": null,
            "visibility": null,
            "width": null
          }
        }
      }
    }
  },
  "cells": [
    {
      "cell_type": "code",
      "source": [
        "#!ls drive/MyDrive/Projects/Binder\n",
        "\n",
        "#! [ -e /content ] && pip install -Uqq fastbook\n",
        "import fastbook\n",
        "\n",
        "from fastai.vision.widgets import *\n",
        "from fastbook import *\n",
        "\n",
        "def on_click_classify(change):\n",
        "    img = PILImage.create(btn_upload.data[-1])\n",
        "    out_pl.clear_output()\n",
        "    with out_pl: display(img.to_thumb(128,128))\n",
        "    pred,pred_idx,probs = learn_inf.predict(img)\n",
        "    lbl_pred.value = f'Prediction: {pred}; Probability: {probs[pred_idx]:.04f}'\n",
        "\n",
        "out_pl = widgets.Output()\n",
        "out_pl.clear_output()\n",
        "\n",
        "lbl_pred = widgets.Label()\n",
        "#lbl_pred.value = f'Prediction: {pred}; Probability: {probs[pred_idx]:.04f}'\n",
        "#lbl_pred\n",
        "\n",
        "path2model = \"drive/MyDrive/Projects/Binder\"\n",
        "try:\n",
        "    path = Path(path2model)\n",
        "    print(path.ls(file_exts='.pkl'))\n",
        "except FileNotFoundError:\n",
        "    path = Path()\n",
        "    print(path.ls(file_exts='.pkl'))\n",
        "#path.ls(file_exts='.pkl')\n",
        "#path\n",
        "\n",
        "learn_inf = load_learner(path/'export.pkl')\n",
        "\n",
        "btn_upload = widgets.FileUpload()\n",
        "#btn_upload\n",
        "\n",
        "btn_run = widgets.Button(description='Classify')\n",
        "#btn_run\n",
        "\n",
        "btn_run.on_click(on_click_classify)\n",
        "\n",
        "VBox([widgets.Label('Select your bear!'), \n",
        "      btn_upload, btn_run, out_pl, lbl_pred])\n"
      ],
      "metadata": {
        "colab": {
          "base_uri": "https://localhost:8080/",
          "height": 444,
          "referenced_widgets": [
            "534091f69b034e90b66190a6392e8485",
            "da32b8ccf1be4a06a08d95c77d1c00ec",
            "a14270ac2aef449fa61c87fc9b5c49c4",
            "6a638dfc3a894aa6a6a4dab88887a6e8",
            "8de3e5d3e3dd460bb8d4f29d8762b2e4",
            "ebba0f42942b47e4bbcd2f43cc6d613d",
            "501122fdc5bf43868b112a85dacc9130",
            "9b883b48769744f48832f9d6d0911ce7",
            "969fec2ff2e24a88b046b6a5082c5e73",
            "b6142e4ee0484fb792b26f25541e249a",
            "f59004dc0eeb4ffe9311a3c4c9ee4df9",
            "d34da3dbdae142af968dc19f507c3888",
            "76b24cc33b8747e0a4a90739fe741f68",
            "4004b568564c42459922e247c5a4a849",
            "7526077a64654ab6b0674f00b9280389",
            "9c9b45e8579d422a90505223bf5a1d15"
          ]
        },
        "id": "PMgP-_uPZfgM",
        "outputId": "e3928ec1-2328-4bb5-a09c-3a2cc754a506"
      },
      "execution_count": 1,
      "outputs": [
        {
          "output_type": "stream",
          "name": "stdout",
          "text": [
            "\u001b[K     |████████████████████████████████| 719 kB 3.2 MB/s \n",
            "\u001b[K     |████████████████████████████████| 4.7 MB 32.0 MB/s \n",
            "\u001b[K     |████████████████████████████████| 1.2 MB 66.4 MB/s \n",
            "\u001b[K     |████████████████████████████████| 365 kB 59.8 MB/s \n",
            "\u001b[K     |████████████████████████████████| 212 kB 62.0 MB/s \n",
            "\u001b[K     |████████████████████████████████| 101 kB 10.7 MB/s \n",
            "\u001b[K     |████████████████████████████████| 115 kB 66.9 MB/s \n",
            "\u001b[K     |████████████████████████████████| 141 kB 67.9 MB/s \n",
            "\u001b[K     |████████████████████████████████| 596 kB 47.2 MB/s \n",
            "\u001b[K     |████████████████████████████████| 127 kB 30.1 MB/s \n",
            "\u001b[K     |████████████████████████████████| 6.6 MB 30.6 MB/s \n",
            "\u001b[?25h[Path('drive/MyDrive/Projects/Binder/export.pkl')]\n"
          ]
        },
        {
          "output_type": "display_data",
          "data": {
            "text/plain": [
              "VBox(children=(Label(value='Select your bear!'), FileUpload(value={}, description='Upload'), Button(descriptio…"
            ],
            "application/vnd.jupyter.widget-view+json": {
              "version_major": 2,
              "version_minor": 0,
              "model_id": "534091f69b034e90b66190a6392e8485"
            }
          },
          "metadata": {}
        },
        {
          "output_type": "display_data",
          "data": {
            "text/plain": [
              "<IPython.core.display.HTML object>"
            ],
            "text/html": [
              "\n",
              "<style>\n",
              "    /* Turns off some styling */\n",
              "    progress {\n",
              "        /* gets rid of default border in Firefox and Opera. */\n",
              "        border: none;\n",
              "        /* Needs to be in here for Safari polyfill so background images work as expected. */\n",
              "        background-size: auto;\n",
              "    }\n",
              "    progress:not([value]), progress:not([value])::-webkit-progress-bar {\n",
              "        background: repeating-linear-gradient(45deg, #7e7e7e, #7e7e7e 10px, #5c5c5c 10px, #5c5c5c 20px);\n",
              "    }\n",
              "    .progress-bar-interrupted, .progress-bar-interrupted::-webkit-progress-bar {\n",
              "        background: #F44336;\n",
              "    }\n",
              "</style>\n"
            ]
          },
          "metadata": {}
        },
        {
          "output_type": "display_data",
          "data": {
            "text/plain": [
              "<IPython.core.display.HTML object>"
            ],
            "text/html": [
              ""
            ]
          },
          "metadata": {}
        },
        {
          "output_type": "display_data",
          "data": {
            "text/plain": [
              "<IPython.core.display.HTML object>"
            ],
            "text/html": [
              "\n",
              "<style>\n",
              "    /* Turns off some styling */\n",
              "    progress {\n",
              "        /* gets rid of default border in Firefox and Opera. */\n",
              "        border: none;\n",
              "        /* Needs to be in here for Safari polyfill so background images work as expected. */\n",
              "        background-size: auto;\n",
              "    }\n",
              "    progress:not([value]), progress:not([value])::-webkit-progress-bar {\n",
              "        background: repeating-linear-gradient(45deg, #7e7e7e, #7e7e7e 10px, #5c5c5c 10px, #5c5c5c 20px);\n",
              "    }\n",
              "    .progress-bar-interrupted, .progress-bar-interrupted::-webkit-progress-bar {\n",
              "        background: #F44336;\n",
              "    }\n",
              "</style>\n"
            ]
          },
          "metadata": {}
        },
        {
          "output_type": "display_data",
          "data": {
            "text/plain": [
              "<IPython.core.display.HTML object>"
            ],
            "text/html": [
              ""
            ]
          },
          "metadata": {}
        }
      ]
    }
  ]
}
